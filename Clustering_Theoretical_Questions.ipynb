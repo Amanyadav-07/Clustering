{
  "nbformat": 4,
  "nbformat_minor": 0,
  "metadata": {
    "colab": {
      "provenance": []
    },
    "kernelspec": {
      "name": "python3",
      "display_name": "Python 3"
    },
    "language_info": {
      "name": "python"
    }
  },
  "cells": [
    {
      "cell_type": "markdown",
      "source": [
        "##1. What is unsupervised learning in the context of machine learning?"
      ],
      "metadata": {
        "id": "DKP6HuvJWJYi"
      }
    },
    {
      "cell_type": "markdown",
      "source": [
        "####Ans:-Unsupervised learning is a type of machine learning where a model is trained on unlabeled data. Unlike supervised learning, there are no predefined labels or outputs; the algorithm tries to find hidden patterns, relationships, or structures in the data on its own."
      ],
      "metadata": {
        "id": "4r_Zc-WmWQ0X"
      }
    },
    {
      "cell_type": "markdown",
      "source": [
        "##2. How does K-Means clustering algorithm work?"
      ],
      "metadata": {
        "id": "OlksAe70WSRV"
      }
    },
    {
      "cell_type": "markdown",
      "source": [
        "####Ans:- How K-means Clustering Works:-\n",
        "\n",
        "\n",
        "```\n",
        "Step 1: Choose the number of clusters (K)\n",
        "Step 2: Initialize Centroids\n",
        "Step 3:Assign Data Points to Nearest Centroid\n",
        "Step 4: Update Centroids\n",
        "Step 5:- Repeat Steps 3 & 4 Until Centroids Don’t Change\n",
        "```\n",
        "\n"
      ],
      "metadata": {
        "id": "07EeI7tYWrmn"
      }
    },
    {
      "cell_type": "markdown",
      "source": [
        "##3. Explain the concept of a dendrogram in hierarchical clustering.\n"
      ],
      "metadata": {
        "id": "_8nKaCIbXBmx"
      }
    },
    {
      "cell_type": "markdown",
      "source": [
        "####Ans:- A dendrogram is a tree-like diagram used to represent how data points are grouped in hierarchical clustering. It visually shows the merging (agglomerative) or splitting (divisive) process of clusters step by step.\n",
        "\n",
        "####Understanding a Dendrogram:-\n",
        "\n",
        "\n",
        "```\n",
        "1. Bottom(Leaves)\n",
        "2. Vertical Lines(Branches)\n",
        "3. Height of Merging\n",
        "4. Top(Root)\n",
        "```\n",
        "\n"
      ],
      "metadata": {
        "id": "w-puYnOyX-JQ"
      }
    },
    {
      "cell_type": "markdown",
      "source": [
        "##4. What is the main difference between K-Means and Hierarchical Clustering?\n"
      ],
      "metadata": {
        "id": "WsET3AnwYOXy"
      }
    },
    {
      "cell_type": "markdown",
      "source": [
        "####Ans:- Main Differences B/w K-Means and Hierarchical Clustering:-\n",
        "\n",
        "####K-Means Clustering:-\n",
        "```\n",
        "1. Partition-based clustering\n",
        "2. Must be predefined before running the algorithm\n",
        "3. Divides data into K groups and optimizes cluster centroids\n",
        "4. Forms separate groups directly\n",
        "5. Faster and works well for large datasets\n",
        "6. No merging, just reassigning points to centroids\n",
        "```\n",
        "####Hierarchical Clustering:-\n",
        "\n",
        "\n",
        "```\n",
        "1. Hierarchical (tree-based) clustering\n",
        "2. No need to predefine clusters, can decide later\n",
        "3. Builds a hierarchy of clusters in a stepwise manner\n",
        "4. Forms a tree-like dendrogram\n",
        "5. Slower for large datasets due to distance calculations\n",
        "6. Slower for large datasets due to distance calculations\n",
        "```\n",
        "\n",
        "\n"
      ],
      "metadata": {
        "id": "39mfkbQUYX3l"
      }
    },
    {
      "cell_type": "markdown",
      "source": [
        "##5. What are the advantages of DBSCAN over K-Means?\n"
      ],
      "metadata": {
        "id": "GkyA22M4ZAsW"
      }
    },
    {
      "cell_type": "markdown",
      "source": [
        "####Ans:- DBSCAN (Density-Based Spatial Clustering of Applications with Noise) is an unsupervised clustering algorithm that groups points based on density. Unlike K-Means, which forms fixed K clusters, DBSCAN detects arbitrary-shaped clusters and identifies outliers (noise).\n",
        "\n"
      ],
      "metadata": {
        "id": "YtBZRDCuZI0q"
      }
    },
    {
      "cell_type": "markdown",
      "source": [
        "##6. When would you use Silhouette Score in clustering?\n"
      ],
      "metadata": {
        "id": "0siGNka_ZNnb"
      }
    },
    {
      "cell_type": "markdown",
      "source": [
        "####Ans:- When to Use Silhouette Score:-\n",
        "\n",
        "\n",
        "```\n",
        "1. Choosing the Best Number of Clusters(K) in K-means\n",
        "2. Comparing Different Clustering Algorithms\n",
        "3. Detecting Poorly Formed Clusters\n",
        "```\n",
        "\n"
      ],
      "metadata": {
        "id": "W5cQy5SrZZyy"
      }
    },
    {
      "cell_type": "markdown",
      "source": [
        "##7. What are the limitations of Hierarchical Clustering?\n"
      ],
      "metadata": {
        "id": "qQkz8xhMZqz7"
      }
    },
    {
      "cell_type": "markdown",
      "source": [
        "####Ans:- Limitations of Hierarchical Clustering:-\n",
        "\n",
        "```\n",
        "1. Scalability Issue(Slow for Large datasets)\n",
        "2. Choosing the Right Number of Cluseters\n",
        "3. Sensitive to Noise and Outliers\n",
        "4. Not Flexible for Large Changes in Data\n",
        "5. Memory Consumption\n",
        "```\n",
        "\n"
      ],
      "metadata": {
        "id": "NgDJs3K1Zzx4"
      }
    },
    {
      "cell_type": "markdown",
      "source": [
        "##8. Why is feature scaling important in clustering algorithms like K-Means?"
      ],
      "metadata": {
        "id": "M-I-Sq1qaPLy"
      }
    },
    {
      "cell_type": "markdown",
      "source": [
        "####Ans:- Feature scaling ensures that all features contribute equally to the clustering process. Without scaling, features with larger numeric ranges dominate those with smaller ranges, leading to biased clusters.\n",
        "\n"
      ],
      "metadata": {
        "id": "jEAdzLmlacMW"
      }
    },
    {
      "cell_type": "markdown",
      "source": [
        "##9. How does DBSCAN identify noise points?"
      ],
      "metadata": {
        "id": "Otn8EsdLadlZ"
      }
    },
    {
      "cell_type": "markdown",
      "source": [
        "####Ans:- DBSCAN (Density-Based Spatial Clustering of Applications with Noise) groups data points based on density rather than predefining the number of clusters (K in K-Means). It classifies points as core points, border points, or noise (outliers).\n",
        "\n",
        "####How DBSCAN Detects Noise:-\n",
        "\n",
        "\n",
        "```\n",
        "1. Identify Core Points\n",
        "2. Identify Border Points\n",
        "3. Mark Noise Points\n",
        "```\n",
        "\n",
        "\n"
      ],
      "metadata": {
        "id": "t9z8a1Btaou6"
      }
    },
    {
      "cell_type": "markdown",
      "source": [
        "##10. Define inertia in the context of K-Means."
      ],
      "metadata": {
        "id": "tGNCuMwNbGTI"
      }
    },
    {
      "cell_type": "markdown",
      "source": [
        "####Ans:- Inertia is a measure of how well K-Means clustering has grouped data points. It calculates the sum of squared distances between each data point and its assigned cluster centroid."
      ],
      "metadata": {
        "id": "ZX1zBQqrbVKb"
      }
    },
    {
      "cell_type": "markdown",
      "source": [
        "##11. What is the elbow method in K-Means clustering?\n"
      ],
      "metadata": {
        "id": "YTCutLowbeao"
      }
    },
    {
      "cell_type": "markdown",
      "source": [
        "####Ans: - The Elbow Method is a technique used to determine the optimal number of clusters (K) in K-Means clustering. It analyzes the inertia (sum of squared distances of points to their nearest cluster centroid) for different values of K and helps find the best trade-off between cluster compactness and efficiency."
      ],
      "metadata": {
        "id": "CvWX-xPybmIo"
      }
    },
    {
      "cell_type": "markdown",
      "source": [
        "##12. Describe the concept of \"density\" in DBSCAN.\n"
      ],
      "metadata": {
        "id": "0LluEFBDbrHo"
      }
    },
    {
      "cell_type": "markdown",
      "source": [
        "####Ans:- In DBSCAN (Density-Based Spatial Clustering of Applications with Noise), density determines whether a region has enough points to form a cluster. Instead of defining a fixed number of clusters like K-Means, DBSCAN groups points based on how densely packed they are.\n"
      ],
      "metadata": {
        "id": "R08VuJ3db1xL"
      }
    },
    {
      "cell_type": "markdown",
      "source": [
        "##13. Can hierarchical clustering be used on categorical data?\n"
      ],
      "metadata": {
        "id": "kPSdHQSUb3lT"
      }
    },
    {
      "cell_type": "markdown",
      "source": [
        "####Ans:- Yes, Hierarchical Clustering can be used on categorical data, but it requires a suitable distance metric since Euclidean distance (used for numerical data) is not meaningful for categorical variables.\n",
        "\n"
      ],
      "metadata": {
        "id": "NyjAZ7R4b_wd"
      }
    },
    {
      "cell_type": "markdown",
      "source": [
        "##14. What does a negative Silhouette Score indicate?\n"
      ],
      "metadata": {
        "id": "pv6ufHQ-cFZa"
      }
    },
    {
      "cell_type": "markdown",
      "source": [
        "####Ans:- The Silhouette Score is a metric used to evaluate how well data points are clustered. It measures how similar a point is to its own cluster compared to other clusters. The score ranges from -1 to 1:\n",
        "\n",
        "```\n",
        "+1 : Well-clustered, points are close to their own cluster and far from others.\n",
        " 0 : Points are on the boundary between two clusters.\n",
        "-1 : Incorrect clustering – points are closer to a different cluster than their assigned one.\n",
        "```\n",
        "\n"
      ],
      "metadata": {
        "id": "LDRcjJlhcQTD"
      }
    },
    {
      "cell_type": "markdown",
      "source": [
        "##15. Explain the term \"linkage criteria\" in hierarchical clustering?\n"
      ],
      "metadata": {
        "id": "lgK_gXqwcdgq"
      }
    },
    {
      "cell_type": "markdown",
      "source": [
        "####Ans:- Linkage criteria determine how the distance between clusters is measured when merging them in Hierarchical Clustering. It defines how the distance between two clusters is calculated at each step of the agglomerative clustering process.\n",
        "\n"
      ],
      "metadata": {
        "id": "KObeIhqNcl8s"
      }
    },
    {
      "cell_type": "markdown",
      "source": [
        "##16. Why might K-Means clustering perform poorly on data with varying cluster sizes or densities?\n"
      ],
      "metadata": {
        "id": "1F0m_ZgIcoQ6"
      }
    },
    {
      "cell_type": "markdown",
      "source": [
        "####Ans:-K-Means assumes that clusters are spherical, equal in size, and have similar densities. When this assumption is violated, K-Means struggles to correctly identify clusters\n",
        "\n",
        "```\n",
        "1. K-Means Assumes Equal Cluster Sizes\n",
        "2. K-Means Assumes Equal Desitites\n",
        "3. K-Means Struggles with Non=Sperical Clusters\n",
        "4. Sensititve to Initialization & Local Minima\n",
        "```\n",
        "\n"
      ],
      "metadata": {
        "id": "EdaUJqURc0W5"
      }
    },
    {
      "cell_type": "markdown",
      "source": [
        "##17. What are the core parameters in DBSCAN, and how do they influence clustering?\n"
      ],
      "metadata": {
        "id": "NqGdG6uUdM3Z"
      }
    },
    {
      "cell_type": "markdown",
      "source": [
        "####Ans:- DBSCAN (Density-Based Spatial Clustering of Applications with Noise) is a clustering algorithm that groups points based on density rather than predefined cluster counts. It has two core parameters:\n",
        "\n",
        "1. Epsilon- Maximum Neighborhood Radius\n",
        "```\n",
        "Defination:- ε (Epsilon) defines the maximum distance between two points for them to be considered neighbors.\n",
        "```\n",
        "2. MinPts- Minimum Points in a Dense Region:-\n",
        "\n",
        "```\n",
        "Defination:- MinPts (Minimum Points) defines the minimum number of points required in an ε-neighborhood to form a core point.\n",
        "```\n",
        "\n",
        "\n",
        "\n"
      ],
      "metadata": {
        "id": "GlqDfoUJdWUh"
      }
    },
    {
      "cell_type": "markdown",
      "source": [
        "##18. How does K-Means++ improve upon standard K-Means initialization.\n"
      ],
      "metadata": {
        "id": "Xa3iVMMBeGkG"
      }
    },
    {
      "cell_type": "markdown",
      "source": [
        "####Ans:- K-Means++ is an improved way to initialize cluster centroids in K-Means clustering. It reduces the risk of poor cluster assignments by ensuring that initial centroids are spread out."
      ],
      "metadata": {
        "id": "JvDEjGOIeLE4"
      }
    },
    {
      "cell_type": "markdown",
      "source": [
        "##19. What is agglomerative clustering?\n"
      ],
      "metadata": {
        "id": "bVgmQJ8beWFE"
      }
    },
    {
      "cell_type": "markdown",
      "source": [
        "####Ans:- Agglomerative Clustering is a hierarchical clustering method that builds clusters bottom-up. It starts with each data point as its own cluster and merges the closest clusters iteratively until only one cluster remains or a stopping condition is met."
      ],
      "metadata": {
        "id": "r0nMYrwhefK0"
      }
    },
    {
      "cell_type": "markdown",
      "source": [
        "##20. What makes Silhouette Score a better metric than just inertia for model evaluation?"
      ],
      "metadata": {
        "id": "HJotxPWqeg4M"
      }
    },
    {
      "cell_type": "markdown",
      "source": [
        "####Ans:- Clustering algorithms like K-Means and DBSCAN need a way to evaluate how well data points are grouped. Two common metrics are:\n",
        "\n",
        "\n",
        "```\n",
        "1. Inertia (Sum of Squared Distances -SSD)\n",
        "2. Silhouette Score\n",
        "```\n",
        "\n",
        "####While inertia is useful, Silhouette Score is often a better metric because it considers both cohesion and separation.\n",
        "\n"
      ],
      "metadata": {
        "id": "iXe2RSG0eqnY"
      }
    }
  ]
}